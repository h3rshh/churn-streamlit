{
 "cells": [
  {
   "cell_type": "code",
   "execution_count": 2,
   "metadata": {},
   "outputs": [],
   "source": [
    "import tensorflow as tf\n",
    "from tensorflow.keras.models import load_model\n",
    "import pickle\n",
    "import pandas as pd\n",
    "import numpy as np"
   ]
  },
  {
   "cell_type": "code",
   "execution_count": 3,
   "metadata": {},
   "outputs": [
    {
     "name": "stderr",
     "output_type": "stream",
     "text": [
      "2025-10-22 21:26:12.907395: I external/local_xla/xla/stream_executor/cuda/cuda_executor.cc:901] successful NUMA node read from SysFS had negative value (-1), but there must be at least one NUMA node, so returning NUMA node zero. See more at https://github.com/torvalds/linux/blob/v6.0/Documentation/ABI/testing/sysfs-bus-pci#L344-L355\n",
      "2025-10-22 21:26:12.911515: W tensorflow/core/common_runtime/gpu/gpu_device.cc:2256] Cannot dlopen some GPU libraries. Please make sure the missing libraries mentioned above are installed properly if you would like to use GPU. Follow the guide at https://www.tensorflow.org/install/gpu for how to download and setup the required libraries for your platform.\n",
      "Skipping registering GPU devices...\n"
     ]
    }
   ],
   "source": [
    "model = tf.keras.models.load_model('model.h5')\n",
    "\n",
    "with open('scaler.pkl', 'rb') as file:\n",
    "    scaler = pickle.load(file)\n",
    "\n",
    "with open('label_encoder_gender.pkl', 'rb') as file:\n",
    "    label_encoder_gender = pickle.load(file)\n",
    "\n",
    "with open('onehot_encoder_geo.pkl', 'rb') as file:\n",
    "    ohc_geo = pickle.load(file)"
   ]
  },
  {
   "cell_type": "code",
   "execution_count": 4,
   "metadata": {},
   "outputs": [],
   "source": [
    "sample = pd.DataFrame([{\n",
    "    'CreditScore': 600,\n",
    "    'Gender': 'Male',\n",
    "    'Age': 40,\n",
    "    'Tenure': 3,\n",
    "    'Balance': 60000,\n",
    "    'NumOfProducts': 2,\n",
    "    'HasCrCard': 1,\n",
    "    'IsActiveMember': 1,\n",
    "    'EstimatedSalary': 50000,\n",
    "    'Geography': 'France'\n",
    "}])"
   ]
  },
  {
   "cell_type": "code",
   "execution_count": 5,
   "metadata": {},
   "outputs": [],
   "source": [
    "# ========== Encode Gender ==========\n",
    "sample['Gender'] = label_encoder_gender.transform(sample['Gender'])\n",
    "\n",
    "# ========== Encode Geography ==========\n",
    "geo_encoded = ohc_geo.transform(sample[['Geography']])\n",
    "geo_encoded_df = pd.DataFrame(geo_encoded.toarray(), columns=ohc_geo.get_feature_names_out(['Geography']))\n",
    "\n",
    "# Merge with the main sample\n",
    "sample = pd.concat([sample.drop('Geography', axis=1), geo_encoded_df], axis=1)\n",
    "\n",
    "# ========== Reorder columns to match training data ==========\n",
    "# These must match the same order used in training (X_train.columns)\n",
    "expected_columns = [\n",
    "    'CreditScore', 'Gender', 'Age', 'Tenure', 'Balance',\n",
    "    'NumOfProducts', 'HasCrCard', 'IsActiveMember', 'EstimatedSalary',\n",
    "    'Geography_France', 'Geography_Germany', 'Geography_Spain'\n",
    "]"
   ]
  },
  {
   "cell_type": "code",
   "execution_count": 6,
   "metadata": {},
   "outputs": [
    {
     "name": "stdout",
     "output_type": "stream",
     "text": [
      "1/1 [==============================] - 0s 116ms/step\n",
      "Predicted probability of churn: 0.0442\n",
      "Predicted class: Will NOT churn\n"
     ]
    }
   ],
   "source": [
    "# Add any missing columns (e.g., if sample didn't have a country)\n",
    "for col in expected_columns:\n",
    "    if col not in sample.columns:\n",
    "        sample[col] = 0\n",
    "\n",
    "sample = sample[expected_columns]\n",
    "\n",
    "# ========== Scale the data ==========\n",
    "sample_scaled = scaler.transform(sample)\n",
    "\n",
    "# ========== Predict ==========\n",
    "prediction = model.predict(sample_scaled)\n",
    "predicted_class = (prediction > 0.5).astype(int)\n",
    "\n",
    "# ========== Output ==========\n",
    "print(f\"Predicted probability of churn: {prediction[0][0]:.4f}\")\n",
    "print(f\"Predicted class: {'Will churn' if predicted_class[0][0] == 1 else 'Will NOT churn'}\")\n"
   ]
  },
  {
   "cell_type": "code",
   "execution_count": null,
   "metadata": {},
   "outputs": [],
   "source": []
  }
 ],
 "metadata": {
  "kernelspec": {
   "display_name": "Python 3",
   "language": "python",
   "name": "python3"
  },
  "language_info": {
   "codemirror_mode": {
    "name": "ipython",
    "version": 3
   },
   "file_extension": ".py",
   "mimetype": "text/x-python",
   "name": "python",
   "nbconvert_exporter": "python",
   "pygments_lexer": "ipython3",
   "version": "3.11.0"
  }
 },
 "nbformat": 4,
 "nbformat_minor": 2
}
